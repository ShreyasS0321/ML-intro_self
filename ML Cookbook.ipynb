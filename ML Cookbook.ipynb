{
 "cells": [
  {
   "cell_type": "code",
   "execution_count": 24,
   "metadata": {},
   "outputs": [],
   "source": [
    "import numpy as np\n",
    "from scipy import sparse\n"
   ]
  },
  {
   "cell_type": "code",
   "execution_count": 6,
   "metadata": {},
   "outputs": [],
   "source": [
    "matrix=np.array([[1,2,4],\n",
    "                 [0,4,2],\n",
    "                 [0,0,1]\n",
    "    \n",
    "    \n",
    "])\n"
   ]
  },
  {
   "cell_type": "markdown",
   "metadata": {},
   "source": [
    "<h4>Sparse Matrix</h4>\n",
    "stores only non zero elements "
   ]
  },
  {
   "cell_type": "code",
   "execution_count": 15,
   "metadata": {},
   "outputs": [],
   "source": [
    "matrix_sparse=sparse.csc_matrix(matrix)\n",
    "\n",
    "\n",
    "row_indices, col_indices = matrix_sparse.indices, matrix_sparse.indptr\n",
    "nonzero_values = matrix_sparse.data\n",
    "\n"
   ]
  },
  {
   "cell_type": "markdown",
   "metadata": {},
   "source": [
    "<h4> Flattening a matrix"
   ]
  },
  {
   "cell_type": "code",
   "execution_count": 18,
   "metadata": {},
   "outputs": [
    {
     "name": "stdout",
     "output_type": "stream",
     "text": [
      "[1 2 4 0 4 2 0 0 1]\n"
     ]
    }
   ],
   "source": [
    "print(matrix.flatten())"
   ]
  },
  {
   "cell_type": "markdown",
   "metadata": {},
   "source": [
    "Matrix Operations"
   ]
  },
  {
   "cell_type": "code",
   "execution_count": 31,
   "metadata": {},
   "outputs": [
    {
     "name": "stdout",
     "output_type": "stream",
     "text": [
      "3\n",
      "4.0\n",
      "6\n",
      "[1. 4. 1.]\n",
      "[[ 1.00000000e+00  5.54700196e-01 -1.00000000e+00]\n",
      " [ 0.00000000e+00  8.32050294e-01 -5.55111512e-17]\n",
      " [ 0.00000000e+00  0.00000000e+00  8.32667268e-17]]\n",
      "[[ 1.   -0.5  -3.  ]\n",
      " [ 0.    0.25 -0.5 ]\n",
      " [ 0.    0.    1.  ]]\n"
     ]
    }
   ],
   "source": [
    "#rank\n",
    "print(np.linalg.matrix_rank(matrix))\n",
    "\n",
    "\n",
    "#determinant\n",
    "print(np.linalg.det(matrix))\n",
    "\n",
    "#trace\n",
    "print(matrix.trace())\n",
    "\n",
    "#eigenvalues and eigenvectors\n",
    "\n",
    "eigenvalues,eigenvectors=np.linalg.eig(matrix)\n",
    "print(eigenvalues)\n",
    "print(eigenvectors)\n",
    "\n",
    "\n",
    "#inverting\n",
    "print((np.linalg.inv(matrix)))\n",
    "      \n"
   ]
  },
  {
   "cell_type": "code",
   "execution_count": null,
   "metadata": {},
   "outputs": [],
   "source": []
  },
  {
   "cell_type": "code",
   "execution_count": null,
   "metadata": {},
   "outputs": [],
   "source": []
  }
 ],
 "metadata": {
  "kernelspec": {
   "display_name": "Python 3 (ipykernel)",
   "language": "python",
   "name": "python3"
  }
 },
 "nbformat": 4,
 "nbformat_minor": 2
}
