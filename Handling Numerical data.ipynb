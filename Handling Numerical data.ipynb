{
 "cells": [
  {
   "cell_type": "code",
   "execution_count": 10,
   "metadata": {},
   "outputs": [],
   "source": [
    "import numpy as np\n",
    "from sklearn import preprocessing\n",
    "from sklearn.preprocessing import PolynomialFeatures"
   ]
  },
  {
   "cell_type": "code",
   "execution_count": 12,
   "metadata": {},
   "outputs": [],
   "source": [
    "feature=np.array([[-100,100],\n",
    "                  [-200,200],\n",
    "                  [500,-500],\n",
    "                  [600,-600],\n",
    "                  [9000,-9000]\n",
    "    \n",
    "    \n",
    "    \n",
    "])\n",
    "\n",
    "feature2=np.array([[1,2],\n",
    "                   [2,3],\n",
    "                   [1,1]\n",
    "    \n",
    "    \n",
    "])\n"
   ]
  },
  {
   "cell_type": "markdown",
   "metadata": {},
   "source": [
    "X:= (X-mean)/(Sigma)"
   ]
  },
  {
   "cell_type": "code",
   "execution_count": 9,
   "metadata": {},
   "outputs": [
    {
     "name": "stdout",
     "output_type": "stream",
     "text": [
      "[[-0.58287986  0.58287986]\n",
      " [-0.611175    0.611175  ]\n",
      " [-0.41310902  0.41310902]\n",
      " [-0.38481389  0.38481389]\n",
      " [ 1.99197776 -1.99197776]]\n"
     ]
    }
   ],
   "source": [
    "standardiser_object=preprocessing.StandardScaler()\n",
    "\n",
    "standardised_feature=standardiser_object.fit_transform(feature)\n",
    "print(standardised_feature)\n",
    "\n"
   ]
  },
  {
   "cell_type": "markdown",
   "metadata": {},
   "source": [
    "Polynomial and Interaction features"
   ]
  },
  {
   "cell_type": "code",
   "execution_count": 19,
   "metadata": {},
   "outputs": [
    {
     "name": "stdout",
     "output_type": "stream",
     "text": [
      "[[1. 2. 1. 2. 4.]\n",
      " [2. 3. 4. 6. 9.]\n",
      " [1. 1. 1. 1. 1.]]\n"
     ]
    }
   ],
   "source": [
    "# x1,x2,x1^2,x1x2,x2^2\n",
    "polynomial_interaction= PolynomialFeatures(degree=2,include_bias=False)\n",
    "#include_bais=True gives a column of 1 for bias/ theta0\n",
    "\n",
    "new_features=polynomial_interaction.fit_transform(feature2)\n",
    "\n",
    "print(new_features)"
   ]
  },
  {
   "cell_type": "markdown",
   "metadata": {},
   "source": [
    "#TO READ - DETECTING OUTLIARS, GROUPING OBSERVATIONS"
   ]
  },
  {
   "cell_type": "code",
   "execution_count": null,
   "metadata": {},
   "outputs": [],
   "source": []
  },
  {
   "cell_type": "code",
   "execution_count": null,
   "metadata": {},
   "outputs": [],
   "source": []
  }
 ],
 "metadata": {
  "kernelspec": {
   "display_name": "Python 3 (ipykernel)",
   "language": "python",
   "name": "python3"
  }
 },
 "nbformat": 4,
 "nbformat_minor": 2
}
